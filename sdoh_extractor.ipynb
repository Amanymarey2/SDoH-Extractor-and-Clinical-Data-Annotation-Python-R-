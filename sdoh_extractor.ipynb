{
 "cells": [
  {
   "cell_type": "markdown",
   "id": "9909f270-8606-4751-919b-12a3ff8fcffb",
   "metadata": {},
   "source": [
    "# SDoH Extractor and Clinical Data Annotation (Python + R)"
   ]
  },
  {
   "cell_type": "markdown",
   "id": "320ff767-f31b-4e95-ab87-3abdd22e4a33",
   "metadata": {},
   "source": [
    "### Project Scope:\n",
    "\n",
    "Adverse social determinants of health (SDoH), like food insecurity and housing instability, contribute to poor health outcomes, but studying these links is difficult because SDoH details are often found in free-text clinical notes rather than structured data. As a result, there is increasing interest in developing automated methods to extract this information. Methods like Natural Language Processing (NLP) and machine learning use existing health IT systems to scan unstructured data in electronic health records (EHRs) and enable automated extraction of social determinants of health (SDoH).\n",
    "\n",
    "In this project, we are developing a Python-based tool to extract social determinants of health (SDoH), such as housing, employment, and social support, from synthetic clinical notes using rule-based natural language processing (NLP) techniques. Additionally, we are implementing a basic R algorithm for data annotation to generate a JSON dataset compatible with the SpaCy model.\n",
    "\n",
    "\n"
   ]
  },
  {
   "cell_type": "markdown",
   "id": "174a0956-048c-45ee-92d7-3674651b70ef",
   "metadata": {},
   "source": [
    "### Step 1: Set up environment"
   ]
  },
  {
   "cell_type": "code",
   "execution_count": 44,
   "id": "32caac59-b788-4c0f-b4c9-a6389ecd9dd0",
   "metadata": {},
   "outputs": [],
   "source": [
    "#import Packages\n",
    "import pandas as pd\n",
    "import random\n",
    "import json\n",
    "\n",
    "from faker import Faker  #data generation\n",
    "\n",
    "import spacy       #SDOH extraction\n",
    "from spacy.matcher import PhraseMatcher\n",
    "from spacy.training import Example #model training\n",
    "\n",
    "from sklearn.metrics import precision_recall_fscore_support  #Performance metrics\n",
    "\n",
    "from spacy.training import offsets_to_biluo_tags         #Test data annotation\n",
    "\n",
    "#data visualization\n",
    "import seaborn as sns\n",
    "import matplotlib.pyplot as plt\n",
    "\n"
   ]
  },
  {
   "cell_type": "markdown",
   "id": "4eded2de-78cb-4af7-bb93-c3e070e8ddd2",
   "metadata": {},
   "source": [
    "### Step 2: Generate Synthetic Canadian Clinical Notes"
   ]
  },
  {
   "cell_type": "markdown",
   "id": "90acca20-1a15-45e8-a7ac-d4ae9fdf0204",
   "metadata": {},
   "source": [
    "In this step, we use Faker to create 500 synthetic notes. The synthetic notes are simpler than real notes with less variation."
   ]
  },
  {
   "cell_type": "code",
   "execution_count": 45,
   "id": "9574c646-3522-4e6c-9e1f-1569026b2d59",
   "metadata": {},
   "outputs": [],
   "source": [
    "# Initialize Faker with Canadian locale\n",
    "fake = Faker('en_CA')\n",
    "\n",
    "# SDoH templates\n",
    "templates = [\n",
    "    \"{name}, a {age}-year-old {gender} from {city}, {province}, reports {housing_status}.\",\n",
    "    \"{name} presents with {health_issue}. Notes {employment_status} and {social_support}.\",\n",
    "    \"{name} is a {age}-year-old {gender}. Reports {substance_use} and {housing_status}.\",\n",
    "    \"{name} is a {age}-year-old {social_status} in {city}. Reports {substance_use}. Currently {employment_status}\",\n",
    "]\n",
    "\n",
    "housing_statuses = [\"living in a shelter\", \"stable housing\", \"facing eviction\", \"homeless\"]\n",
    "employment_statuses = [\"unemployed\", \"employed part-time\", \"retired\", \"on disability\", \"employed full-time\"]\n",
    "social_supports = [\"no family support\", \"lives with family\", \"strong community ties\"]\n",
    "substance_uses = [\"no substance use\", \"smokes tobacco\", \"uses alcohol heavily\"]\n",
    "health_issues = [\"hypertension\", \"diabetes\", \"anxiety\", \"stable health\", \"depression\"]\n",
    "social_status = [\"widow\", \"single mother\", \"divorced\", \"married\", \"single\"]\n",
    "\n",
    "# Generate synthetic notes\n",
    "notes = []\n",
    "for _ in range(500):\n",
    "    name = fake.name()\n",
    "    age = random.randint(18, 80)\n",
    "    gender = random.choice([\"male\", \"female\", \"non-binary\"])\n",
    "    city = fake.city()\n",
    "    province = fake.province()\n",
    "    template = random.choice(templates)\n",
    "    note = template.format(\n",
    "        name=name,\n",
    "        age=age,\n",
    "        gender=gender,\n",
    "        city=city,\n",
    "        province=province,\n",
    "        housing_status=random.choice(housing_statuses),\n",
    "        employment_status=random.choice(employment_statuses),\n",
    "        social_support=random.choice(social_supports),\n",
    "        substance_use=random.choice(substance_uses),\n",
    "        health_issue=random.choice(health_issues),\n",
    "        social_status=random.choice(social_status)\n",
    "    )\n",
    "    notes.append({\"note\": note, \"name\": name, \"age\": age, \"city\": city})\n",
    "\n",
    "# Save to DataFrame\n",
    "df = pd.DataFrame(notes)\n",
    "df.to_csv(\"synthetic_notes.csv\", index=False)"
   ]
  },
  {
   "cell_type": "markdown",
   "id": "c5d2207d-2c1c-4309-8283-f3bdf04e3458",
   "metadata": {},
   "source": [
    "### Step 3: Extract SDoH Using Rule-Based NLP"
   ]
  },
  {
   "cell_type": "markdown",
   "id": "4c28906e-a4db-4aca-929c-68c85fbc0e9b",
   "metadata": {},
   "source": [
    "Rule-based systems use predefined patterns to extract information from text, offering speed and reliability but requiring significant effort to maintain. For instance, such systems can identify entities like people or diseases based on features like capitalization or specific keywords."
   ]
  },
  {
   "cell_type": "code",
   "execution_count": 58,
   "id": "84b9039b-34d0-4e61-bb61-d671601746be",
   "metadata": {},
   "outputs": [
    {
     "name": "stderr",
     "output_type": "stream",
     "text": [
      "C:\\Users\\amany\\opencv\\Lib\\site-packages\\spacy\\util.py:910: UserWarning: [W095] Model 'en_core_web_sm' (3.8.0) was trained with spaCy v3.8.0 and may not be 100% compatible with the current version (3.7.5). If you see errors or degraded performance, download a newer compatible model or retrain your custom model with the current spaCy version. For more details and available updates, run: python -m spacy validate\n",
      "  warnings.warn(warn_msg)\n"
     ]
    }
   ],
   "source": [
    "# Load spaCy model\n",
    "nlp = spacy.load(\"en_core_web_sm\")\n",
    "matcher = PhraseMatcher(nlp.vocab)\n",
    "\n",
    "# Define SDoH patterns\n",
    "housing_patterns = [nlp(text) for text in [\"living in a shelter\", \"stable housing\", \"facing eviction\", \"homeless\"]]\n",
    "employment_patterns = [nlp(text) for text in [\"unemployed\", \"employed part-time\", \"retired\", \"on disability\", \"employed full-time\"]]\n",
    "social_patterns = [nlp(text) for text in [\"no family support\", \"lives with family\", \"strong community ties\"]]\n",
    "social_patterns2 = [nlp(text) for text in [\"widow\", \"single mother\", \"divorced\", \"married\", \"single\"]]\n",
    "social_patterns3 = [nlp(text) for text in [\"no substance use\", \"smokes tobacco\", \"uses alcohol heavily\"]]\n",
    "health_patterns = [nlp(text) for text in [\"hypertension\", \"diabetes\", \"anxiety\", \"stable health\", \"depression\"]]\n",
    "\n",
    "\n",
    "matcher.add(\"HOUSING\", housing_patterns)\n",
    "matcher.add(\"EMPLOYMENT\", employment_patterns)\n",
    "matcher.add(\"SOCIAL_SUPPORT\", social_patterns)\n",
    "matcher.add(\"SOCIAL_STATUS\", social_patterns2)\n",
    "matcher.add(\"SUBSTANCE_ABUSE\", social_patterns3)\n",
    "matcher.add(\"HEALTH_ISSUES\", health_patterns)\n",
    "\n",
    "\n",
    "# Function to extract SDoH\n",
    "def extract_sdoh(note):\n",
    "    doc = nlp(note)\n",
    "    matches = matcher(doc)\n",
    "    sdoh = []\n",
    "    for match_id, start, end in matches:\n",
    "        label = nlp.vocab.strings[match_id]\n",
    "        entity = doc[start:end].text\n",
    "        sdoh.append({\"label\": label, \"entity\": entity})\n",
    "    return sdoh\n",
    "\n",
    "# Apply to all notes\n",
    "df[\"sdoh\"] = df[\"note\"].apply(extract_sdoh)"
   ]
  },
  {
   "cell_type": "code",
   "execution_count": 47,
   "id": "aed21ee2-85bd-4d51-a0a9-c6af730d0f85",
   "metadata": {},
   "outputs": [],
   "source": [
    "#Save data frame\n",
    "#df.to_csv(\"synthetic_notes_labelled.csv\", index=False)"
   ]
  },
  {
   "cell_type": "markdown",
   "id": "6e6bd3e0-106d-4ebf-b530-e7d75b43fb39",
   "metadata": {},
   "source": [
    "### Step 4: Data Visualization"
   ]
  },
  {
   "cell_type": "code",
   "execution_count": 48,
   "id": "f0ff18c5-d20c-4ac7-b956-63877ddb7855",
   "metadata": {},
   "outputs": [
    {
     "data": {
      "image/png": "[encoded data removed]",
      "text/plain": [
       "<Figure size 800x600 with 1 Axes>"
      ]
     },
     "metadata": {},
     "output_type": "display_data"
    }
   ],
   "source": [
    "# Flatten SDoH data\n",
    "sdoh_counts = {\"HOUSING\": 0, \"EMPLOYMENT\": 0, \"SOCIAL_SUPPORT\": 0, \"SOCIAL_STATUS\": 0, \"SUBSTANCE_ABUSE\": 0, \"HEALTH_ISSUES\": 0}\n",
    "for sdoh_list in df[\"sdoh\"]:\n",
    "    for sdoh in sdoh_list:\n",
    "        sdoh_counts[sdoh[\"label\"]] += 1\n",
    "\n",
    "# Create DataFrame for plotting\n",
    "plot_data = pd.DataFrame({\n",
    "    \"SDoH Category\": sdoh_counts.keys(),\n",
    "    \"Count\": sdoh_counts.values()\n",
    "})\n",
    "\n",
    "# Plot\n",
    "plt.figure(figsize=(8, 6))\n",
    "sns.barplot(x=\"SDoH Category\", y=\"Count\", data=plot_data, hue=\"SDoH Category\", palette=\"Blues_d\")\n",
    "plt.title(\"Distribution of Social Determinants of Health in Synthetic Notes\")\n",
    "plt.xlabel(\"SDoH Category\")\n",
    "plt.ylabel(\"Frequency\")\n",
    "plt.xticks(rotation = 45)\n",
    "plt.savefig(\"sdoh_distribution.png\")\n",
    "plt.show()"
   ]
  },
  {
   "cell_type": "markdown",
   "id": "3030bb98-5618-4695-be67-8f8509e8bde4",
   "metadata": {},
   "source": [
    "### Step 5: Data Annotation in R"
   ]
  },
  {
   "cell_type": "markdown",
   "id": "afc714fb-dfe9-46a5-841b-0aaaa52c7e2b",
   "metadata": {},
   "source": [
    "In this step, we used data processing techniques to identify start and end spans of SDOH entities. The code file (Data Annotation.Rmd) is available in the Github repository"
   ]
  },
  {
   "cell_type": "markdown",
   "id": "08b3fd95-544a-4f64-9bdd-ec77ae4ced80",
   "metadata": {},
   "source": [
    "### Step 6: Train the spaCy NER Model\n"
   ]
  },
  {
   "cell_type": "markdown",
   "id": "4d99af47-97d3-4a70-bd31-139d803780f4",
   "metadata": {},
   "source": [
    "We have used ScispaCy pre-trained biomedical en_core_sci_sm model to extract SDOH as a starting point. The NER component was trained for 30 iterations with dropout (0.5) to prevent overfitting.\n",
    "\n"
   ]
  },
  {
   "cell_type": "code",
   "execution_count": 50,
   "id": "c6e1083e-78e9-4ae3-bc65-3a58e4d9fdfe",
   "metadata": {},
   "outputs": [
    {
     "name": "stdout",
     "output_type": "stream",
     "text": [
      "Iteration 0, Losses: {'ner': 920.2625846247404}\n",
      "Iteration 1, Losses: {'ner': 190.02932781106813}\n",
      "Iteration 2, Losses: {'ner': 67.19886360522119}\n",
      "Iteration 3, Losses: {'ner': 50.78736224883153}\n",
      "Iteration 4, Losses: {'ner': 70.51059561537318}\n",
      "Iteration 5, Losses: {'ner': 46.771639071041015}\n",
      "Iteration 6, Losses: {'ner': 41.95944366994082}\n",
      "Iteration 7, Losses: {'ner': 52.97238651315199}\n",
      "Iteration 8, Losses: {'ner': 48.5649119470552}\n",
      "Iteration 9, Losses: {'ner': 39.33756681456616}\n",
      "Iteration 10, Losses: {'ner': 39.35002637230068}\n",
      "Iteration 11, Losses: {'ner': 17.827442356107913}\n",
      "Iteration 12, Losses: {'ner': 39.37473923162857}\n",
      "Iteration 13, Losses: {'ner': 28.731917219119264}\n",
      "Iteration 14, Losses: {'ner': 29.96302171011904}\n",
      "Iteration 15, Losses: {'ner': 26.618802303931027}\n",
      "Iteration 16, Losses: {'ner': 24.22295747551079}\n",
      "Iteration 17, Losses: {'ner': 35.97659550903534}\n",
      "Iteration 18, Losses: {'ner': 48.46946277840468}\n",
      "Iteration 19, Losses: {'ner': 19.029975581564152}\n",
      "Iteration 20, Losses: {'ner': 26.944999608850175}\n",
      "Iteration 21, Losses: {'ner': 20.17465705022763}\n",
      "Iteration 22, Losses: {'ner': 21.81314591214388}\n",
      "Iteration 23, Losses: {'ner': 10.220179343028928}\n",
      "Iteration 24, Losses: {'ner': 10.904281004778001}\n",
      "Iteration 25, Losses: {'ner': 49.178673507897}\n",
      "Iteration 26, Losses: {'ner': 36.47330588305204}\n",
      "Iteration 27, Losses: {'ner': 25.575977799576513}\n",
      "Iteration 28, Losses: {'ner': 12.414454344527591}\n",
      "Iteration 29, Losses: {'ner': 50.44550462822685}\n"
     ]
    }
   ],
   "source": [
    "# Load training data\n",
    "with open(\"train_data.json\", \"r\") as f:\n",
    "    TRAIN_DATA = json.load(f)\n",
    "\n",
    "# Load the base model\n",
    "nlp = spacy.load(\"en_core_sci_sm\")\n",
    "\n",
    "# Add NER pipeline if not present\n",
    "if \"ner\" not in nlp.pipe_names:\n",
    "    ner = nlp.add_pipe(\"ner\")\n",
    "else:\n",
    "    ner = nlp.get_pipe(\"ner\")\n",
    "\n",
    "# Add SDoH labels\n",
    "for _, annotations in TRAIN_DATA:\n",
    "    for ent in annotations.get(\"entities\"):\n",
    "        ner.add_label(ent[2])  # e.g., HOUSING, EMPLOYMENT\n",
    "\n",
    "# Disable other pipelines during training\n",
    "other_pipes = [pipe for pipe in nlp.pipe_names if pipe != \"ner\"]\n",
    "with nlp.disable_pipes(*other_pipes):\n",
    "    optimizer = nlp.resume_training()\n",
    "    for itn in range(30):  # 30 iterations\n",
    "        random.shuffle(TRAIN_DATA)\n",
    "        losses = {}\n",
    "        for text, annotations in TRAIN_DATA:\n",
    "            doc = nlp.make_doc(text)\n",
    "            example = Example.from_dict(doc, annotations)\n",
    "            nlp.update([example], drop=0.5, sgd=optimizer, losses=losses)\n",
    "        print(f\"Iteration {itn}, Losses: {losses}\")\n",
    "\n",
    "# Save the trained model\n",
    "nlp.to_disk(\"sdoh_ner_model\")"
   ]
  },
  {
   "cell_type": "markdown",
   "id": "ee5e31ab-10eb-4e99-8a3f-c32dfa58bb50",
   "metadata": {},
   "source": [
    "### Step 7: Evaluate the Model\n"
   ]
  },
  {
   "cell_type": "markdown",
   "id": "32d9944a-aefa-444b-8ed0-48867317e81a",
   "metadata": {},
   "source": [
    "In this model, we evaluate the trained model on the test set using precision, recall, and F1-score. This is a simplified evaluation assuming one entity per note. \n"
   ]
  },
  {
   "cell_type": "code",
   "execution_count": 51,
   "id": "fbd6c5d5-d576-4d56-aadf-a8b7d45a812d",
   "metadata": {},
   "outputs": [
    {
     "name": "stdout",
     "output_type": "stream",
     "text": [
      "Precision: 1.000, Recall: 1.000, F1-Score: 1.000\n"
     ]
    }
   ],
   "source": [
    "# Load test data\n",
    "with open(\"test_data.json\", \"r\") as f:\n",
    "    TEST_DATA = json.load(f)\n",
    "\n",
    "# Load trained model\n",
    "nlp = spacy.load(\"sdoh_ner_model\")\n",
    "\n",
    "# Evaluate\n",
    "true_labels = []\n",
    "pred_labels = []\n",
    "for text, annotations in TEST_DATA:\n",
    "    doc = nlp(text)\n",
    "    true_ents = [(start, end, label) for start, end, label in annotations.get(\"entities\")]\n",
    "    pred_ents = [(ent.start_char, ent.end_char, ent.label_) for ent in doc.ents]\n",
    "    \n",
    "    # Simplify: Assume one entity per note for evaluation (adjust for multi-entity notes)\n",
    "    true_labels.extend([label for _, _, label in true_ents])\n",
    "    pred_labels.extend([label for _, _, label in pred_ents] if pred_ents else [\"NONE\"])\n",
    "\n",
    "# Calculate metrics\n",
    "precision, recall, f1, _ = precision_recall_fscore_support(true_labels, pred_labels, average=\"weighted\")\n",
    "print(f\"Precision: {precision:.3f}, Recall: {recall:.3f}, F1-Score: {f1:.3f}\")"
   ]
  },
  {
   "cell_type": "markdown",
   "id": "4186825a-16ac-4690-b584-973752362f78",
   "metadata": {},
   "source": [
    "The metrics results are 1 mostly because there is no wide variation in data. Next step, we will use ML model and compare the results"
   ]
  },
  {
   "cell_type": "markdown",
   "id": "1d6956c3-0c36-40f3-ad99-a80a290ce831",
   "metadata": {},
   "source": [
    "### Step 8: Integrated ML model to existing pipeline"
   ]
  },
  {
   "cell_type": "code",
   "execution_count": 59,
   "id": "93a5d709-26a5-4c39-a938-f12f79c02c8a",
   "metadata": {},
   "outputs": [],
   "source": [
    "# Load trained model\n",
    "nlp = spacy.load(\"sdoh_ner_model\")\n",
    "\n",
    "# Load synthetic notes\n",
    "df2 = pd.read_csv(\"synthetic_notes.csv\")\n",
    "\n",
    "# Extract SDoH with ML model\n",
    "def extract_sdoh_ml(note):\n",
    "    doc = nlp(note)\n",
    "    return [{\"label\": ent.label_, \"entity\": ent.text} for ent in doc.ents]\n",
    "\n",
    "df2[\"sdoh_ml\"] = df2[\"note\"].apply(extract_sdoh_ml)"
   ]
  },
  {
   "cell_type": "markdown",
   "id": "84bf1a23-d154-4894-bf5e-5c7ce27deda8",
   "metadata": {},
   "source": [
    "### Step 9: Visualize and Compare Results\n"
   ]
  },
  {
   "cell_type": "code",
   "execution_count": 60,
   "id": "ed2a6f23-89a6-4c42-978c-1dea4f4c1f14",
   "metadata": {},
   "outputs": [
    {
     "data": {
      "image/png": "[encoded data removed]",
      "text/plain": [
       "<Figure size 1000x600 with 1 Axes>"
      ]
     },
     "metadata": {},
     "output_type": "display_data"
    }
   ],
   "source": [
    "# Count SDoH from rule-based and ML-based methods\n",
    "rule_counts = {\"HOUSING\": 0, \"EMPLOYMENT\": 0, \"SOCIAL_SUPPORT\": 0, \"SOCIAL_STATUS\": 0, \"SUBSTANCE_ABUSE\": 0, \"HEALTH_ISSUES\": 0}\n",
    "ml_counts = {\"HOUSING\": 0, \"EMPLOYMENT\": 0, \"SOCIAL_SUPPORT\": 0, \"SOCIAL_STATUS\": 0, \"SUBSTANCE_ABUSE\": 0, \"HEALTH_ISSUES\": 0}\n",
    "\n",
    "for sdoh_list in df[\"sdoh\"]:  # Rule-based\n",
    "    for sdoh in sdoh_list:\n",
    "        rule_counts[sdoh[\"label\"]] += 1\n",
    "for sdoh_list in df2[\"sdoh_ml\"]:  # ML-based\n",
    "    for sdoh in sdoh_list:\n",
    "        ml_counts[sdoh[\"label\"]] += 1\n",
    "\n",
    "# Create DataFrame for plotting\n",
    "plot_data = pd.DataFrame([\n",
    "    {\"Method\": \"Rule-Based\", \"SDoH\": k, \"Count\": v} for k, v in rule_counts.items()\n",
    "] + [\n",
    "    {\"Method\": \"ML-Based\", \"SDoH\": k, \"Count\": v} for k, v in ml_counts.items()\n",
    "])\n",
    "\n",
    "# Plot\n",
    "plt.figure(figsize=(10, 6))\n",
    "sns.barplot(x=\"SDoH\", y=\"Count\", hue=\"Method\", data=plot_data)\n",
    "plt.title(\"SDoH Extraction: Rule-Based vs. ML-Based\")\n",
    "plt.xlabel(\"SDoH Category\")\n",
    "plt.ylabel(\"Frequency\")\n",
    "plt.savefig(\"sdoh_comparison.png\")\n",
    "plt.show()"
   ]
  },
  {
   "cell_type": "markdown",
   "id": "c29a32d1-b898-4fb3-98e0-bf679951f0c2",
   "metadata": {},
   "source": [
    "The results of rule-based and ML-based models are quite similar."
   ]
  },
  {
   "cell_type": "markdown",
   "id": "28524564-aa4b-45cb-b277-98d87437d682",
   "metadata": {},
   "source": [
    "### GOOD PRACTICES FOR DATA ANNOTATION"
   ]
  },
  {
   "cell_type": "markdown",
   "id": "c0920c53-4f9a-4915-b446-729f6db5303a",
   "metadata": {},
   "source": [
    "It is important to ensure that the annotated data perfectly aligns with the Spacy model. "
   ]
  },
  {
   "cell_type": "markdown",
   "id": "394b7d20-055b-4513-a1b3-310cae42a3db",
   "metadata": {},
   "source": [
    "#### 1- Example of non-aligned data"
   ]
  },
  {
   "cell_type": "code",
   "execution_count": 62,
   "id": "a3b20093-9357-4267-9b5b-0b4f47ba837e",
   "metadata": {},
   "outputs": [
    {
     "name": "stdout",
     "output_type": "stream",
     "text": [
      "['O', 'O', 'O', 'O', 'O', 'O', 'O', 'O', 'O', 'O', 'O', 'O', 'O', 'O', 'O', 'O', 'O', 'O', 'O', 'O', '-', '-', 'O']\n"
     ]
    },
    {
     "name": "stderr",
     "output_type": "stream",
     "text": [
      "C:\\Users\\amany\\opencv\\Lib\\site-packages\\spacy\\training\\iob_utils.py:149: UserWarning: [W030] Some entities could not be aligned in the text \"Charles Sharp, a 42-year-old non-binary from New R...\" with entities \"[(86, 99, 'HOUSING')]\". Use `spacy.training.offsets_to_biluo_tags(nlp.make_doc(text), entities)` to check the alignment. Misaligned entities ('-') will be ignored during training.\n",
      "  warnings.warn(\n"
     ]
    }
   ],
   "source": [
    "import spacy\n",
    "\n",
    "nlp = spacy.blank(\"en\")\n",
    "text = \"Charles Sharp, a 42-year-old non-binary from New Robertstad, Yukon Territory, reports stable housing.\"\n",
    "entities = [(86, 99, \"HOUSING\")]  # Example span\n",
    "\n",
    "doc = nlp.make_doc(text)\n",
    "tags = offsets_to_biluo_tags(doc, [(start, end, label) for start, end, label in entities])\n",
    "print(tags)"
   ]
  },
  {
   "cell_type": "markdown",
   "id": "6568ae3a-45cc-49a2-a8d3-85fda490c25e",
   "metadata": {},
   "source": [
    "If the character (-) appears, it means that Spacy could not align the model."
   ]
  },
  {
   "cell_type": "markdown",
   "id": "82b3126d-0c86-42d0-abda-fa3e7cb35834",
   "metadata": {},
   "source": [
    "#### 2- Check How Spacy identify the entity span"
   ]
  },
  {
   "cell_type": "code",
   "execution_count": 63,
   "id": "0c373078-eea2-4549-bb36-de625cfb76d1",
   "metadata": {},
   "outputs": [
    {
     "name": "stdout",
     "output_type": "stream",
     "text": [
      "0: 'Charles' [0, 7]\n",
      "1: 'Sharp' [8, 13]\n",
      "2: ',' [13, 14]\n",
      "3: 'a' [15, 16]\n",
      "4: '42' [17, 19]\n",
      "5: '-' [19, 20]\n",
      "6: 'year' [20, 24]\n",
      "7: '-' [24, 25]\n",
      "8: 'old' [25, 28]\n",
      "9: 'non' [29, 32]\n",
      "10: '-' [32, 33]\n",
      "11: 'binary' [33, 39]\n",
      "12: 'from' [40, 44]\n",
      "13: 'New' [45, 48]\n",
      "14: 'Robertstad' [49, 59]\n",
      "15: ',' [59, 60]\n",
      "16: 'Yukon' [61, 66]\n",
      "17: 'Territory' [67, 76]\n",
      "18: ',' [76, 77]\n",
      "19: 'reports' [78, 85]\n",
      "20: 'stable' [86, 92]\n",
      "21: 'housing' [93, 100]\n",
      "22: '.' [100, 101]\n"
     ]
    }
   ],
   "source": [
    "for i, token in enumerate(doc):\n",
    "    print(f\"{i}: '{token.text}' [{token.idx}, {token.idx + len(token.text)}]\")\n"
   ]
  },
  {
   "cell_type": "markdown",
   "id": "4d3c92db-f67f-4c54-be6d-ed171db046a6",
   "metadata": {},
   "source": [
    "The results show that stable housing entity starts at 86 and end with 100. In this case, data processing method should be reviewed"
   ]
  },
  {
   "cell_type": "markdown",
   "id": "a8e426c7-718b-411e-ae7a-370e6459b5cd",
   "metadata": {},
   "source": [
    "#### 3- Repeat with the accurate Spacy span."
   ]
  },
  {
   "cell_type": "code",
   "execution_count": 64,
   "id": "807b915e-27f3-4d38-a3b6-be08ebf1c7f0",
   "metadata": {},
   "outputs": [
    {
     "name": "stdout",
     "output_type": "stream",
     "text": [
      "['O', 'O', 'O', 'O', 'O', 'O', 'O', 'O', 'O', 'O', 'O', 'O', 'O', 'O', 'O', 'O', 'O', 'O', 'O', 'O', 'B-HOUSING', 'L-HOUSING', 'O']\n"
     ]
    }
   ],
   "source": [
    "nlp = spacy.blank(\"en\")\n",
    "text = \"Charles Sharp, a 42-year-old non-binary from New Robertstad, Yukon Territory, reports stable housing.\"\n",
    "entities = [(86, 100, \"HOUSING\")]  # Example span\n",
    "\n",
    "doc = nlp.make_doc(text)\n",
    "tags = offsets_to_biluo_tags(doc, [(start, end, label) for start, end, label in entities])\n",
    "print(tags)"
   ]
  },
  {
   "cell_type": "markdown",
   "id": "8151f448-5237-46ce-baff-ba4371ef42ca",
   "metadata": {},
   "source": [
    "Now the Spacy model can align the data perfectly"
   ]
  },
  {
   "cell_type": "markdown",
   "id": "dec43ada-0cc3-4286-b2ed-4e3ddb638ba1",
   "metadata": {},
   "source": [
    "### References"
   ]
  },
  {
   "cell_type": "markdown",
   "id": "8d7f9c70-7435-4127-b83e-9990ec263e55",
   "metadata": {},
   "source": [
    "Lituiev, D. S., Lacar, B., Pak, S., Abramowitsch, P. L., De Marchis, E. H., & Peterson, T. A. (2023). Automatic extraction of social determinants of health from medical notes of chronic lower back pain patients. Journal of the American Medical Informatics Association, 30(8), 1438-1447.\n",
    "\n",
    "Sarbani. Extracting Medical Information From Clinical Text With NLP. Analytics Vidhya. Accessed from: https://www.analyticsvidhya.com/blog/2023/02/extracting-medical-information-from-clinical-text-with-nlp/"
   ]
  }
 ],
 "metadata": {
  "kernelspec": {
   "display_name": "Python 3 (ipykernel)",
   "language": "python",
   "name": "python3"
  },
  "language_info": {
   "codemirror_mode": {
    "name": "ipython",
    "version": 3
   },
   "file_extension": ".py",
   "mimetype": "text/x-python",
   "name": "python",
   "nbconvert_exporter": "python",
   "pygments_lexer": "ipython3",
   "version": "3.12.5"
  }
 },
 "nbformat": 4,
 "nbformat_minor": 5
}
